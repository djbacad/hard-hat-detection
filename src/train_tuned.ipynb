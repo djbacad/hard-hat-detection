{
 "cells": [
  {
   "attachments": {},
   "cell_type": "markdown",
   "metadata": {},
   "source": [
    "### Import Libraries"
   ]
  },
  {
   "cell_type": "code",
   "execution_count": 23,
   "metadata": {},
   "outputs": [],
   "source": [
    "import os\n",
    "import torch\n",
    "from ultralytics import YOLO"
   ]
  },
  {
   "attachments": {},
   "cell_type": "markdown",
   "metadata": {},
   "source": [
    "### Configure torch to use CUDA along with the available GPU"
   ]
  },
  {
   "cell_type": "code",
   "execution_count": 25,
   "metadata": {},
   "outputs": [
    {
     "name": "stdout",
     "output_type": "stream",
     "text": [
      "Sun May 14 15:17:35 2023       \n",
      "+---------------------------------------------------------------------------------------+\n",
      "| NVIDIA-SMI 531.79                 Driver Version: 531.79       CUDA Version: 12.1     |\n",
      "|-----------------------------------------+----------------------+----------------------+\n",
      "| GPU  Name                      TCC/WDDM | Bus-Id        Disp.A | Volatile Uncorr. ECC |\n",
      "| Fan  Temp  Perf            Pwr:Usage/Cap|         Memory-Usage | GPU-Util  Compute M. |\n",
      "|                                         |                      |               MIG M. |\n",
      "|=========================================+======================+======================|\n",
      "|   0  NVIDIA GeForce RTX 2060       WDDM | 00000000:01:00.0  On |                  N/A |\n",
      "| N/A   72C    P0               26W /  N/A|   2491MiB /  6144MiB |      7%      Default |\n",
      "|                                         |                      |                  N/A |\n",
      "+-----------------------------------------+----------------------+----------------------+\n",
      "                                                                                         \n",
      "+---------------------------------------------------------------------------------------+\n",
      "| Processes:                                                                            |\n",
      "|  GPU   GI   CI        PID   Type   Process name                            GPU Memory |\n",
      "|        ID   ID                                                             Usage      |\n",
      "|=======================================================================================|\n",
      "|    0   N/A  N/A      6084    C+G   ...__8wekyb3d8bbwe\\Microsoft.Notes.exe    N/A      |\n",
      "|    0   N/A  N/A      7904    C+G   ...6.0_x64__cv1g1gvanyjgm\\WhatsApp.exe    N/A      |\n",
      "|    0   N/A  N/A      8960    C+G   C:\\Windows\\explorer.exe                   N/A      |\n",
      "|    0   N/A  N/A      9132    C+G   ...on\\113.0.1774.42\\msedgewebview2.exe    N/A      |\n",
      "|    0   N/A  N/A     11360    C+G   ...t.LockApp_cw5n1h2txyewy\\LockApp.exe    N/A      |\n",
      "|    0   N/A  N/A     12032    C+G   ...nt.CBS_cw5n1h2txyewy\\SearchHost.exe    N/A      |\n",
      "|    0   N/A  N/A     13236    C+G   ...2txyewy\\StartMenuExperienceHost.exe    N/A      |\n",
      "|    0   N/A  N/A     13576    C+G   C:\\Program Files\\LGHUB\\lghub.exe          N/A      |\n",
      "|    0   N/A  N/A     14372    C+G   ...B\\system_tray\\lghub_system_tray.exe    N/A      |\n",
      "|    0   N/A  N/A     14460      C   ...anaconda3\\envs\\torch-gpu\\python.exe    N/A      |\n",
      "|    0   N/A  N/A     14580      C   ...anaconda3\\envs\\torch-gpu\\python.exe    N/A      |\n",
      "|    0   N/A  N/A     15792    C+G   ...aam7r\\AcrobatNotificationClient.exe    N/A      |\n",
      "|    0   N/A  N/A     15852    C+G   ...oogle\\Chrome\\Application\\chrome.exe    N/A      |\n",
      "|    0   N/A  N/A     16048    C+G   ...crosoft\\Edge\\Application\\msedge.exe    N/A      |\n",
      "|    0   N/A  N/A     16580    C+G   ...GeForce Experience\\NVIDIA Share.exe    N/A      |\n",
      "|    0   N/A  N/A     17184    C+G   ...ersal Control\\Universal Control.exe    N/A      |\n",
      "|    0   N/A  N/A     20288    C+G   ...on\\113.0.1774.42\\msedgewebview2.exe    N/A      |\n",
      "|    0   N/A  N/A     20344    C+G   ...5n1h2txyewy\\ShellExperienceHost.exe    N/A      |\n",
      "|    0   N/A  N/A     21452    C+G   ...ress\\CefSharp.BrowserSubprocess.exe    N/A      |\n",
      "|    0   N/A  N/A     22264    C+G   ...siveControlPanel\\SystemSettings.exe    N/A      |\n",
      "|    0   N/A  N/A     24064    C+G   C:\\Windows\\explorer.exe                   N/A      |\n",
      "|    0   N/A  N/A     26232    C+G   ...Desktop\\app-3.2.3\\GitHubDesktop.exe    N/A      |\n",
      "|    0   N/A  N/A     27568    C+G   ...Programs\\Microsoft VS Code\\Code.exe    N/A      |\n",
      "|    0   N/A  N/A     28000    C+G   C:\\Windows\\explorer.exe                   N/A      |\n",
      "+---------------------------------------------------------------------------------------+\n"
     ]
    }
   ],
   "source": [
    "!nvidia-smi"
   ]
  },
  {
   "cell_type": "code",
   "execution_count": 26,
   "metadata": {},
   "outputs": [
    {
     "data": {
      "text/plain": [
       "_CudaDeviceProperties(name='NVIDIA GeForce RTX 2060', major=7, minor=5, total_memory=6143MB, multi_processor_count=30)"
      ]
     },
     "execution_count": 26,
     "metadata": {},
     "output_type": "execute_result"
    }
   ],
   "source": [
    "torch.cuda.get_device_properties(device=0)"
   ]
  },
  {
   "cell_type": "code",
   "execution_count": 27,
   "metadata": {},
   "outputs": [],
   "source": [
    "os.environ[\"CUDA_VISIBLE_DEVICES\"] = \"0\"\n",
    "torch.cuda.set_device(0)"
   ]
  },
  {
   "attachments": {},
   "cell_type": "markdown",
   "metadata": {},
   "source": [
    "### Read the contents of the tuning results"
   ]
  },
  {
   "cell_type": "code",
   "execution_count": 18,
   "metadata": {},
   "outputs": [
    {
     "name": "stdout",
     "output_type": "stream",
     "text": [
      "+------------------------+---------------------+--------------------+\n",
      "\n",
      "\n",
      "Max mAP50: Result(\n",
      "  metrics={'metrics/precision(B)': 0.9627478753805254, 'metrics/recall(B)': 0.9312596521898847, 'metrics/mAP50(B)': 0.9797900862605804, 'metrics/mAP50-95(B)': 0.6717029624930517, 'epoch': 9, 'done': True, 'trial_id': 'f2541_00001', 'experiment_tag': '1_degrees=3.2584,lr0=0.0042,momentum=0.6320,weight_decay=0.0005'},\n",
      "  path='E:\\\\files_main\\\\projects_ml\\\\hard-hat-detection\\\\src\\\\runs\\\\_tune_2023-05-14_01-45-20\\\\_tune_f2541_00001_1_degrees=3.2584,lr0=0.0042,momentum=0.6320,weight_decay=0.0005_2023-05-14_02-02-41',\n",
      "  checkpoint=None\n",
      ")\n",
      "Max mAP50-95: Result(\n",
      "  metrics={'metrics/precision(B)': 0.9627478753805254, 'metrics/recall(B)': 0.9312596521898847, 'metrics/mAP50(B)': 0.9797900862605804, 'metrics/mAP50-95(B)': 0.6717029624930517, 'epoch': 9, 'done': True, 'trial_id': 'f2541_00001', 'experiment_tag': '1_degrees=3.2584,lr0=0.0042,momentum=0.6320,weight_decay=0.0005'},\n",
      "  path='E:\\\\files_main\\\\projects_ml\\\\hard-hat-detection\\\\src\\\\runs\\\\_tune_2023-05-14_01-45-20\\\\_tune_f2541_00001_1_degrees=3.2584,lr0=0.0042,momentum=0.6320,weight_decay=0.0005_2023-05-14_02-02-41',\n",
      "  checkpoint=None\n",
      ")\n",
      "\n"
     ]
    }
   ],
   "source": [
    "with open('tuning_output.txt', 'rb') as f:\n",
    "    n = 1200\n",
    "    f.seek(-n, 2)  \n",
    "    last_n_chars = f.read(n).decode('utf-8')  # decode to convert bytes to string\n",
    "    print(last_n_chars)"
   ]
  },
  {
   "attachments": {},
   "cell_type": "markdown",
   "metadata": {},
   "source": [
    "### Train new model with specified hyperparameters"
   ]
  },
  {
   "cell_type": "code",
   "execution_count": 20,
   "metadata": {},
   "outputs": [
    {
     "name": "stderr",
     "output_type": "stream",
     "text": [
      "Ultralytics YOLOv8.0.99  Python-3.10.11 torch-2.0.1+cu118 CUDA:0 (NVIDIA GeForce RTX 2060, 6144MiB)\n",
      "\u001b[34m\u001b[1myolo\\engine\\trainer: \u001b[0mtask=detect, mode=train, model=yolov8n.pt, data=../Hard-Hat-Workers-8/custom_hard_hat.yaml, epochs=10, patience=50, batch=32, imgsz=640, save=True, save_period=-1, cache=False, device=None, workers=8, project=None, name=yolov8n_custom_tuned, exist_ok=False, pretrained=False, optimizer=SGD, verbose=True, seed=0, deterministic=True, single_cls=False, rect=False, cos_lr=False, close_mosaic=0, resume=False, amp=True, overlap_mask=True, mask_ratio=4, dropout=0.0, val=True, split=val, save_json=False, save_hybrid=False, conf=None, iou=0.7, max_det=300, half=False, dnn=False, plots=True, source=None, show=False, save_txt=False, save_conf=False, save_crop=False, show_labels=True, show_conf=True, vid_stride=1, line_width=None, visualize=False, augment=False, agnostic_nms=False, classes=None, retina_masks=False, boxes=True, format=torchscript, keras=False, optimize=False, int8=False, dynamic=False, simplify=False, opset=None, workspace=4, nms=False, lr0=0.0042, lrf=0.01, momentum=0.632, weight_decay=0.0005, warmup_epochs=3.0, warmup_momentum=0.8, warmup_bias_lr=0.1, box=7.5, cls=0.5, dfl=1.5, pose=12.0, kobj=1.0, label_smoothing=0.0, nbs=64, hsv_h=0.015, hsv_s=0.7, hsv_v=0.4, degrees=3.2584, translate=0.1, scale=0.5, shear=0.0, perspective=0.0, flipud=0.0, fliplr=0.5, mosaic=1.0, mixup=0.0, copy_paste=0.0, cfg=None, v5loader=False, tracker=botsort.yaml, save_dir=e:\\files_main\\projects_ml\\hard-hat-detection\\ultralytics\\runs\\detect\\yolov8n_custom_tuned3\n",
      "Overriding model.yaml nc=80 with nc=1\n",
      "\n",
      "                   from  n    params  module                                       arguments                     \n",
      "  0                  -1  1       464  ultralytics.nn.modules.conv.Conv             [3, 16, 3, 2]                 \n",
      "  1                  -1  1      4672  ultralytics.nn.modules.conv.Conv             [16, 32, 3, 2]                \n",
      "  2                  -1  1      7360  ultralytics.nn.modules.block.C2f             [32, 32, 1, True]             \n",
      "  3                  -1  1     18560  ultralytics.nn.modules.conv.Conv             [32, 64, 3, 2]                \n",
      "  4                  -1  2     49664  ultralytics.nn.modules.block.C2f             [64, 64, 2, True]             \n",
      "  5                  -1  1     73984  ultralytics.nn.modules.conv.Conv             [64, 128, 3, 2]               \n",
      "  6                  -1  2    197632  ultralytics.nn.modules.block.C2f             [128, 128, 2, True]           \n",
      "  7                  -1  1    295424  ultralytics.nn.modules.conv.Conv             [128, 256, 3, 2]              \n",
      "  8                  -1  1    460288  ultralytics.nn.modules.block.C2f             [256, 256, 1, True]           \n",
      "  9                  -1  1    164608  ultralytics.nn.modules.block.SPPF            [256, 256, 5]                 \n",
      " 10                  -1  1         0  torch.nn.modules.upsampling.Upsample         [None, 2, 'nearest']          \n",
      " 11             [-1, 6]  1         0  ultralytics.nn.modules.conv.Concat           [1]                           \n",
      " 12                  -1  1    148224  ultralytics.nn.modules.block.C2f             [384, 128, 1]                 \n",
      " 13                  -1  1         0  torch.nn.modules.upsampling.Upsample         [None, 2, 'nearest']          \n",
      " 14             [-1, 4]  1         0  ultralytics.nn.modules.conv.Concat           [1]                           \n",
      " 15                  -1  1     37248  ultralytics.nn.modules.block.C2f             [192, 64, 1]                  \n",
      " 16                  -1  1     36992  ultralytics.nn.modules.conv.Conv             [64, 64, 3, 2]                \n",
      " 17            [-1, 12]  1         0  ultralytics.nn.modules.conv.Concat           [1]                           \n",
      " 18                  -1  1    123648  ultralytics.nn.modules.block.C2f             [192, 128, 1]                 \n",
      " 19                  -1  1    147712  ultralytics.nn.modules.conv.Conv             [128, 128, 3, 2]              \n",
      " 20             [-1, 9]  1         0  ultralytics.nn.modules.conv.Concat           [1]                           \n",
      " 21                  -1  1    493056  ultralytics.nn.modules.block.C2f             [384, 256, 1]                 \n",
      " 22        [15, 18, 21]  1    751507  ultralytics.nn.modules.head.Detect           [1, [64, 128, 256]]           \n",
      "Model summary: 225 layers, 3011043 parameters, 3011027 gradients, 8.2 GFLOPs\n",
      "\n",
      "Transferred 319/355 items from pretrained weights\n",
      "\u001b[34m\u001b[1mAMP: \u001b[0mrunning Automatic Mixed Precision (AMP) checks with YOLOv8n...\n",
      "\u001b[34m\u001b[1mAMP: \u001b[0mchecks passed \n",
      "\u001b[34m\u001b[1moptimizer:\u001b[0m SGD(lr=0.0042) with parameter groups 57 weight(decay=0.0), 64 weight(decay=0.0005), 63 bias\n",
      "\u001b[34m\u001b[1mtrain: \u001b[0mScanning E:\\files_main\\projects_ml\\hard-hat-detection\\Hard-Hat-Workers-8\\train\\labels.cache... 4916 images, 413 backgrounds, 0 corrupt: 100%|██████████| 4916/4916 [00:00<?, ?it/s]\n",
      "\u001b[34m\u001b[1mval: \u001b[0mScanning E:\\files_main\\projects_ml\\hard-hat-detection\\Hard-Hat-Workers-8\\valid\\labels.cache... 1413 images, 116 backgrounds, 0 corrupt: 100%|██████████| 1413/1413 [00:00<?, ?it/s]\n"
     ]
    },
    {
     "name": "stdout",
     "output_type": "stream",
     "text": [
      "ClearML Monitor: Could not detect iteration reporting, falling back to iterations as seconds-from-start\n"
     ]
    },
    {
     "name": "stderr",
     "output_type": "stream",
     "text": [
      "Plotting labels to e:\\files_main\\projects_ml\\hard-hat-detection\\ultralytics\\runs\\detect\\yolov8n_custom_tuned3\\labels.jpg... \n",
      "Image sizes 640 train, 640 val\n",
      "Using 8 dataloader workers\n",
      "Logging results to \u001b[1me:\\files_main\\projects_ml\\hard-hat-detection\\ultralytics\\runs\\detect\\yolov8n_custom_tuned3\u001b[0m\n",
      "Starting training for 10 epochs...\n",
      "\n",
      "      Epoch    GPU_mem   box_loss   cls_loss   dfl_loss  Instances       Size\n",
      "       1/10      4.32G      1.445      1.914      1.362         63        640: 100%|██████████| 154/154 [01:11<00:00,  2.17it/s]\n",
      "                 Class     Images  Instances      Box(P          R      mAP50  mAP50-95):  13%|█▎        | 3/23 [00:02<00:19,  1.05it/s]"
     ]
    },
    {
     "name": "stdout",
     "output_type": "stream",
     "text": [
      "ClearML Monitor: Reporting detected, reverting back to iteration based reporting\n"
     ]
    },
    {
     "name": "stderr",
     "output_type": "stream",
     "text": [
      "                 Class     Images  Instances      Box(P          R      mAP50  mAP50-95): 100%|██████████| 23/23 [00:25<00:00,  1.12s/it]\n",
      "                   all       1413       3913      0.932      0.868      0.941      0.567\n",
      "\n",
      "      Epoch    GPU_mem   box_loss   cls_loss   dfl_loss  Instances       Size\n",
      "       2/10      4.49G      1.257     0.9015      1.232         63        640: 100%|██████████| 154/154 [01:04<00:00,  2.38it/s]\n",
      "                 Class     Images  Instances      Box(P          R      mAP50  mAP50-95): 100%|██████████| 23/23 [00:24<00:00,  1.06s/it]\n",
      "                   all       1413       3913      0.935        0.9      0.962      0.621\n",
      "\n",
      "      Epoch    GPU_mem   box_loss   cls_loss   dfl_loss  Instances       Size\n",
      "       3/10      4.57G       1.24     0.8329      1.193        101        640: 100%|██████████| 154/154 [01:03<00:00,  2.41it/s]\n",
      "                 Class     Images  Instances      Box(P          R      mAP50  mAP50-95): 100%|██████████| 23/23 [00:24<00:00,  1.08s/it]\n",
      "                   all       1413       3913      0.949      0.906      0.967      0.637\n",
      "\n",
      "      Epoch    GPU_mem   box_loss   cls_loss   dfl_loss  Instances       Size\n",
      "       4/10      4.55G      1.216       0.79      1.173        123        640: 100%|██████████| 154/154 [01:24<00:00,  1.83it/s]\n",
      "                 Class     Images  Instances      Box(P          R      mAP50  mAP50-95): 100%|██████████| 23/23 [00:20<00:00,  1.10it/s]\n",
      "                   all       1413       3913      0.944      0.921      0.971      0.626\n",
      "\n",
      "      Epoch    GPU_mem   box_loss   cls_loss   dfl_loss  Instances       Size\n",
      "       5/10      4.79G      1.205     0.7593      1.158        100        640: 100%|██████████| 154/154 [01:03<00:00,  2.41it/s]\n",
      "                 Class     Images  Instances      Box(P          R      mAP50  mAP50-95): 100%|██████████| 23/23 [00:22<00:00,  1.01it/s]\n",
      "                   all       1413       3913      0.949      0.923      0.973      0.623\n",
      "\n",
      "      Epoch    GPU_mem   box_loss   cls_loss   dfl_loss  Instances       Size\n",
      "       6/10      4.37G      1.182     0.7288      1.139         87        640: 100%|██████████| 154/154 [01:19<00:00,  1.94it/s]\n",
      "                 Class     Images  Instances      Box(P          R      mAP50  mAP50-95): 100%|██████████| 23/23 [00:25<00:00,  1.11s/it]\n",
      "                   all       1413       3913       0.95      0.926      0.973      0.635\n",
      "\n",
      "      Epoch    GPU_mem   box_loss   cls_loss   dfl_loss  Instances       Size\n",
      "       7/10      4.55G      1.168     0.7074      1.129         97        640: 100%|██████████| 154/154 [01:24<00:00,  1.83it/s]\n",
      "                 Class     Images  Instances      Box(P          R      mAP50  mAP50-95): 100%|██████████| 23/23 [00:26<00:00,  1.15s/it]\n",
      "                   all       1413       3913      0.952      0.929      0.976      0.645\n",
      "\n",
      "      Epoch    GPU_mem   box_loss   cls_loss   dfl_loss  Instances       Size\n",
      "       8/10      4.56G       1.16     0.6904      1.127        123        640: 100%|██████████| 154/154 [01:24<00:00,  1.83it/s]\n",
      "                 Class     Images  Instances      Box(P          R      mAP50  mAP50-95): 100%|██████████| 23/23 [00:23<00:00,  1.04s/it]\n",
      "                   all       1413       3913      0.956      0.926      0.976      0.638\n",
      "\n",
      "      Epoch    GPU_mem   box_loss   cls_loss   dfl_loss  Instances       Size\n",
      "       9/10      4.36G      1.148     0.6756      1.121         80        640: 100%|██████████| 154/154 [01:27<00:00,  1.75it/s]\n",
      "                 Class     Images  Instances      Box(P          R      mAP50  mAP50-95): 100%|██████████| 23/23 [00:28<00:00,  1.24s/it]\n",
      "                   all       1413       3913      0.955       0.93      0.976      0.647\n",
      "\n",
      "      Epoch    GPU_mem   box_loss   cls_loss   dfl_loss  Instances       Size\n",
      "      10/10      4.47G      1.145     0.6708      1.116         89        640: 100%|██████████| 154/154 [01:25<00:00,  1.80it/s]\n",
      "                 Class     Images  Instances      Box(P          R      mAP50  mAP50-95): 100%|██████████| 23/23 [00:34<00:00,  1.49s/it]\n",
      "                   all       1413       3913      0.953      0.931      0.976      0.646\n",
      "\n",
      "10 epochs completed in 0.289 hours.\n",
      "Optimizer stripped from e:\\files_main\\projects_ml\\hard-hat-detection\\ultralytics\\runs\\detect\\yolov8n_custom_tuned3\\weights\\last.pt, 6.2MB\n",
      "Optimizer stripped from e:\\files_main\\projects_ml\\hard-hat-detection\\ultralytics\\runs\\detect\\yolov8n_custom_tuned3\\weights\\best.pt, 6.2MB\n",
      "\n",
      "Validating e:\\files_main\\projects_ml\\hard-hat-detection\\ultralytics\\runs\\detect\\yolov8n_custom_tuned3\\weights\\best.pt...\n",
      "Ultralytics YOLOv8.0.99  Python-3.10.11 torch-2.0.1+cu118 CUDA:0 (NVIDIA GeForce RTX 2060, 6144MiB)\n",
      "Model summary (fused): 168 layers, 3005843 parameters, 0 gradients, 8.1 GFLOPs\n",
      "                 Class     Images  Instances      Box(P          R      mAP50  mAP50-95): 100%|██████████| 23/23 [00:25<00:00,  1.09s/it]\n",
      "                   all       1413       3913      0.954       0.93      0.976      0.647\n",
      "Speed: 0.3ms preprocess, 3.0ms inference, 0.0ms loss, 2.5ms postprocess per image\n",
      "Results saved to \u001b[1me:\\files_main\\projects_ml\\hard-hat-detection\\ultralytics\\runs\\detect\\yolov8n_custom_tuned3\u001b[0m\n"
     ]
    },
    {
     "name": "stdout",
     "output_type": "stream",
     "text": [
      "2023-05-14 13:59:15,926 - clearml.storage - INFO - Starting upload: e:\\files_main\\projects_ml\\hard-hat-detection\\ultralytics\\runs\\detect\\yolov8n_custom_tuned3\\weights\\best.pt => https://files.clear.ml/YOLOv8/yolov8n_custom_tuned.bc760348a9bf42718c080754e3ade835/models/best.pt\n"
     ]
    },
    {
     "name": "stdout",
     "output_type": "stream",
     "text": [
      "2023-05-14 13:59:41,168 - clearml.Task - INFO - Completed model upload to https://files.clear.ml/YOLOv8/yolov8n_custom_tuned.bc760348a9bf42718c080754e3ade835/models/best.pt\n"
     ]
    }
   ],
   "source": [
    "# Load the model.\n",
    "model = YOLO('yolov8n.pt')\n",
    " \n",
    "# Training.\n",
    "# To register the rotation augmentation, the config.yaml file was edited\n",
    "# Can be solved in 2 ways: https://github.com/ultralytics/ultralytics/issues/2412\n",
    "results = model.train(\n",
    "   data='../Hard-Hat-Workers-8/custom_hard_hat.yaml',\n",
    "   imgsz=640,\n",
    "   epochs=10,\n",
    "   batch=32,\n",
    "   name='yolov8n_custom_tuned',\n",
    "   lr0=0.0042,\n",
    "   momentum=0.6320,\n",
    "   weight_decay=0.0005\n",
    "   )"
   ]
  }
 ],
 "metadata": {
  "kernelspec": {
   "display_name": "torch-gpu",
   "language": "python",
   "name": "python3"
  },
  "language_info": {
   "codemirror_mode": {
    "name": "ipython",
    "version": 3
   },
   "file_extension": ".py",
   "mimetype": "text/x-python",
   "name": "python",
   "nbconvert_exporter": "python",
   "pygments_lexer": "ipython3",
   "version": "3.10.11"
  },
  "orig_nbformat": 4
 },
 "nbformat": 4,
 "nbformat_minor": 2
}
